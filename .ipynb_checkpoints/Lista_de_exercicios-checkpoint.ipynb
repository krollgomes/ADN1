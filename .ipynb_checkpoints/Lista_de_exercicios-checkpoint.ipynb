{
 "cells": [
  {
   "cell_type": "code",
   "execution_count": null,
   "id": "58d6caea-a5df-43cd-9f18-a9acf0e1759e",
   "metadata": {},
   "outputs": [],
   "source": [
    "## Exercícios de fixação"
   ]
  },
  {
   "cell_type": "code",
   "execution_count": null,
   "id": "9478b717-50da-4a3a-94b7-5102dbb5cfa6",
   "metadata": {},
   "outputs": [],
   "source": [
    "Q.0\n"
   ]
  },
  {
   "cell_type": "code",
   "execution_count": 8,
   "id": "12a4e81a-c7e8-4edd-b4bb-94002f964162",
   "metadata": {},
   "outputs": [
    {
     "ename": "IndentationError",
     "evalue": "unexpected indent (2846822931.py, line 2)",
     "output_type": "error",
     "traceback": [
      "\u001b[1;36m  Cell \u001b[1;32mIn[8], line 2\u001b[1;36m\u001b[0m\n\u001b[1;33m    if numero % 2 == 0:\u001b[0m\n\u001b[1;37m    ^\u001b[0m\n\u001b[1;31mIndentationError\u001b[0m\u001b[1;31m:\u001b[0m unexpected indent\n"
     ]
    }
   ],
   "source": [
    "numuro = int(input(\"Digite um numero:\"))\n",
    "             if numero % 2 == 0:\n",
    "                print(\"O numero é par?\")\n",
    "             else:\n",
    "                print(\"O numero é impar?\")\n",
    "# verificar se o numero é positivo, negativo ou zero.\n",
    "if numero > 0: \n",
    "    print(\"O numero é positivo:\")\n",
    "elif numero < 0:\n",
    "    print(\"O numero é negativo:\")\n",
    "    \n",
    "\n",
    "             "
   ]
  },
  {
   "cell_type": "code",
   "execution_count": null,
   "id": "709264c8-25b4-47fb-9944-23287c377ad5",
   "metadata": {},
   "outputs": [],
   "source": [
    "Q.1 Faça um Programa que peça dois números e imprima o maior deles"
   ]
  },
  {
   "cell_type": "code",
   "execution_count": 23,
   "id": "b1911aa2-4197-4de1-9a13-74c2603c7d88",
   "metadata": {},
   "outputs": [
    {
     "ename": "IndentationError",
     "evalue": "unindent does not match any outer indentation level (<string>, line 5)",
     "output_type": "error",
     "traceback": [
      "\u001b[1;36m  File \u001b[1;32m<string>:5\u001b[1;36m\u001b[0m\n\u001b[1;33m    elif num2 > num1:\u001b[0m\n\u001b[1;37m                      ^\u001b[0m\n\u001b[1;31mIndentationError\u001b[0m\u001b[1;31m:\u001b[0m unindent does not match any outer indentation level\n"
     ]
    }
   ],
   "source": [
    "num1 = int(input(\"digite o primeiro numero\"))\n",
    "num2 = int(input(\"digite o segundo numero\"))\n",
    "           if num1 > num2: \n",
    "             print(\"f O maior numero é : {num1}\")\n",
    "            elif num2 > num1: \n",
    "             print(\"f O maior numero é : {num2}\")\n",
    "            else:\n",
    " print(\"Os dois numero são iguais:\")\n",
    "    \n",
    "          \n"
   ]
  },
  {
   "cell_type": "code",
   "execution_count": null,
   "id": "425f47b7-699b-41ac-8e91-b2393d8fb638",
   "metadata": {},
   "outputs": [],
   "source": []
  }
 ],
 "metadata": {
  "kernelspec": {
   "display_name": "Python 3 (ipykernel)",
   "language": "python",
   "name": "python3"
  },
  "language_info": {
   "codemirror_mode": {
    "name": "ipython",
    "version": 3
   },
   "file_extension": ".py",
   "mimetype": "text/x-python",
   "name": "python",
   "nbconvert_exporter": "python",
   "pygments_lexer": "ipython3",
   "version": "3.12.7"
  }
 },
 "nbformat": 4,
 "nbformat_minor": 5
}
