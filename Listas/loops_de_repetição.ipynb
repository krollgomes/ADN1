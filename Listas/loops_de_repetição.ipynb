{
 "cells": [
  {
   "cell_type": "code",
   "execution_count": null,
   "id": "736f5c77-13bd-4f55-8cdb-46100003d492",
   "metadata": {},
   "outputs": [],
   "source": [
    "# %% 1. Faça um programa que peça uma nota, entre zero e dez. Mostre uma mensagem caso o valor seja inválido e continue \n",
    "# %% pedindo até que o usuário informe um valor válido. "
   ]
  },
  {
   "cell_type": "code",
   "execution_count": 3,
   "id": "a1271745-1e35-4d35-b20e-d746c1c913b9",
   "metadata": {},
   "outputs": [
    {
     "name": "stdin",
     "output_type": "stream",
     "text": [
      "Digite uma nota entre 0 e 10: 11\n"
     ]
    },
    {
     "name": "stdout",
     "output_type": "stream",
     "text": [
      "Valor inválido. Tente novamente:\n"
     ]
    },
    {
     "name": "stdin",
     "output_type": "stream",
     "text": [
      "Digite uma nota entre 0 e 10: 5\n"
     ]
    },
    {
     "name": "stdout",
     "output_type": "stream",
     "text": [
      "Nota valida digitada: 5.0\n"
     ]
    }
   ],
   "source": [
    "nota = -1\n",
    "while nota < 0 or nota > 10:\n",
    "    nota = float(input(\"Digite uma nota entre 0 e 10:\"))\n",
    "    if nota < 0 or nota > 10:\n",
    "        print(\"Valor inválido. Tente novamente:\")\n",
    "print(\"Nota valida digitada:\" , nota)\n",
    "        "
   ]
  },
  {
   "cell_type": "code",
   "execution_count": null,
   "id": "71d9567b-4984-467e-b490-d6bcf873f92f",
   "metadata": {},
   "outputs": [],
   "source": [
    "# %% 2. Faça um programa que leia um nome de usuário e a sua senha e não aceite a senha igual ao nome do usuário, mostrando \n",
    "# %% uma mensagem de erro e voltando a pedir as informações.\n"
   ]
  },
  {
   "cell_type": "code",
   "execution_count": 7,
   "id": "778d4fc3-da58-4b99-b057-8ce6be384b61",
   "metadata": {},
   "outputs": [
    {
     "name": "stdin",
     "output_type": "stream",
     "text": [
      "Digite seu nome de usuário: carol\n",
      "Digite sua senha: carol\n"
     ]
    },
    {
     "name": "stdout",
     "output_type": "stream",
     "text": [
      "Erro! Senha não pode ser igual ao nome do usuário:\n"
     ]
    },
    {
     "name": "stdin",
     "output_type": "stream",
     "text": [
      "Digite sua senha: carol\n"
     ]
    },
    {
     "name": "stdout",
     "output_type": "stream",
     "text": [
      "Erro! Senha não pode ser igual ao nome do usuário:\n"
     ]
    },
    {
     "name": "stdin",
     "output_type": "stream",
     "text": [
      "Digite sua senha: 1234\n"
     ]
    },
    {
     "name": "stdout",
     "output_type": "stream",
     "text": [
      "Senha digitada valida com sucesso!\n"
     ]
    }
   ],
   "source": [
    "nome = input(\"Digite seu nome de usuário:\")\n",
    "senha = input(\"Digite sua senha:\")\n",
    "while senha == nome:\n",
    "        print(\"Erro! Senha não pode ser igual ao nome do usuário:\")\n",
    "        senha = input(\"Digite sua senha:\")\n",
    "print(\"Senha digitada valida com sucesso!\")"
   ]
  },
  {
   "cell_type": "code",
   "execution_count": null,
   "id": "a6458c8a-0501-47b1-8d63-c8f7e1a1a80c",
   "metadata": {},
   "outputs": [],
   "source": [
    "# 3. Faça um programa que leia e valide as seguintes informações: \n",
    "# a. Nome: maior que 3 caracteres; \n",
    "# b. Idade: entre 0 e 150; \n",
    "# c. Salário: maior que zero; \n",
    "# d. Sexo: 'f' ou 'm'; \n",
    "# e. Estado Civil: 's', 'c', 'v', 'd';"
   ]
  },
  {
   "cell_type": "code",
   "execution_count": 14,
   "id": "04f4ee73-64bf-43c8-b9d2-b48ae3b7bfd0",
   "metadata": {},
   "outputs": [
    {
     "name": "stdin",
     "output_type": "stream",
     "text": [
      "Digite seu nome: carol\n",
      "Digite sua idade: 38\n",
      "Digite seu salario: 1000.00\n",
      "Digite seu sexo (F para feminino / M para masculino):  f\n",
      "Digite seu estado civil (s- solteiro, c- casado, v- viúvo, d- divorciado):  s\n"
     ]
    },
    {
     "name": "stdout",
     "output_type": "stream",
     "text": [
      "\n",
      " Cadastro completo com sucesso!\n",
      "Nome: carol\n",
      "Idade: 38\n",
      "Salario: 1000.0\n",
      "Sexo: f\n",
      "Estado_civil: s\n"
     ]
    }
   ],
   "source": [
    "nome = input(\"Digite seu nome:\")\n",
    "while len(nome) <= 3:\n",
    "    print(\"Nome deve ter mais que 3 letras:\")\n",
    "    nome = input(\"Digite seu nome novamente:\")\n",
    "\n",
    "idade = int(input(\"Digite sua idade:\"))\n",
    "while idade < 0 or idade > 150:\n",
    "    print(\"Idade deve ter entre 0 a 150:\")\n",
    "    idade = input(\"Digite sua idade novamente:\")\n",
    "\n",
    "salario = float(input(\"Digite seu salario:\"))\n",
    "while salario <= 0:\n",
    "    print(\"Salario maior que zero:\")\n",
    "    salario = float(input(\"Digite seu salário novamente:\"))\n",
    "\n",
    "sexo = input(\"Digite seu sexo (F para feminino / M para masculino): \").lower()\n",
    "while sexo != 'f' and sexo != 'M':\n",
    "    print(\"Sexo invalido. Digite 'f' ou 'm' .\")\n",
    "    sexo = input(\"Digite seu sexo novamente:\").lower()\n",
    "\n",
    "estado_civil = input(\"Digite seu estado civil (s- solteiro, c- casado, v- viúvo, d- divorciado): \").lower()\n",
    "while estado_civil not in ['s', 'c', 'v', 'd']:\n",
    "    print(\"Estado civil invalido. Digite 's', 'c', 'v', ou 'd'.\")\n",
    "    estado_civil = input(\"Digite novamente:\").lower()\n",
    "\n",
    "print(\"\\n Cadastro completo com sucesso!\")\n",
    "print(\"Nome:\" , nome)\n",
    "print(\"Idade:\" , idade)\n",
    "print(\"Salario:\" , salario)\n",
    "print(\"Sexo:\" , sexo)\n",
    "print(\"Estado_civil:\" , estado_civil)\n",
    "\n",
    "    \n"
   ]
  },
  {
   "cell_type": "code",
   "execution_count": null,
   "id": "504da03e-cbcb-45cd-8ca6-1bdb3b2b81c1",
   "metadata": {},
   "outputs": [],
   "source": [
    "# 4. Faça um programa que calcule o mostre a média aritmética de N notas."
   ]
  },
  {
   "cell_type": "code",
   "execution_count": 2,
   "id": "f7f3c4b3-9d28-4c1f-90b8-63648078f351",
   "metadata": {},
   "outputs": [
    {
     "name": "stdin",
     "output_type": "stream",
     "text": [
      "Quantas notas você quer digitar: 3\n",
      "Digite a 1 nota:  2\n",
      "Digite a 2 nota:  4\n",
      "Digite a 3 nota:  6\n"
     ]
    },
    {
     "name": "stdout",
     "output_type": "stream",
     "text": [
      "A media das 3 notas é: 4.00\n"
     ]
    }
   ],
   "source": [
    "quantidade = int(input(\"Quantas notas você quer digitar:\"))\n",
    "soma = 0\n",
    "for i in range(quantidade):\n",
    "    nota = float(input(f\"Digite a {i + 1} nota: \"))\n",
    "    soma += nota\n",
    "    media = soma / quantidade \n",
    "print(f\"A media das {quantidade} notas é: {media:.2f}\")"
   ]
  },
  {
   "cell_type": "code",
   "execution_count": null,
   "id": "1102cd50-20a1-4e34-af98-80cbbbc42189",
   "metadata": {},
   "outputs": [],
   "source": [
    "# 5. Faça um programa que leia 5 números e informe a soma e a média dos números."
   ]
  },
  {
   "cell_type": "code",
   "execution_count": 21,
   "id": "2e9bd725-f7a1-4624-ba85-7b7a3844c549",
   "metadata": {},
   "outputs": [
    {
     "name": "stdin",
     "output_type": "stream",
     "text": [
      "Digite um numero: 22\n",
      "Digite um numero: 30\n",
      "Digite um numero: 60\n",
      "Digite um numero: 40\n",
      "Digite um numero: 10\n"
     ]
    },
    {
     "name": "stdout",
     "output_type": "stream",
     "text": [
      "A soma dos numeros é: 162.0\n",
      "A media dos numeros é: 32.4\n"
     ]
    }
   ],
   "source": [
    "num1 = float(input(\"Digite um numero:\"))\n",
    "num2 = float(input(\"Digite um numero:\"))\n",
    "num3 = float(input(\"Digite um numero:\"))\n",
    "num4 = float(input(\"Digite um numero:\"))\n",
    "num5 = float(input(f\"Digite um numero:\"))\n",
    "soma =  num1 + num2 + num3 + num4 + num5 \n",
    "media = soma / 5\n",
    "print(\"A soma dos numeros é:\" , soma)\n",
    "print(\"A media dos numeros é:\" , media)\n"
   ]
  },
  {
   "cell_type": "code",
   "execution_count": null,
   "id": "d61b2067-952f-479a-a59b-e30e337480ca",
   "metadata": {},
   "outputs": [],
   "source": []
  },
  {
   "cell_type": "code",
   "execution_count": null,
   "id": "c7726f1f-1d28-44b6-8c52-c8f06987c70e",
   "metadata": {},
   "outputs": [],
   "source": []
  },
  {
   "cell_type": "code",
   "execution_count": null,
   "id": "53ef741f-e03b-4600-bb37-76ae679fd8c7",
   "metadata": {},
   "outputs": [],
   "source": []
  }
 ],
 "metadata": {
  "kernelspec": {
   "display_name": "Python 3 (ipykernel)",
   "language": "python",
   "name": "python3"
  },
  "language_info": {
   "codemirror_mode": {
    "name": "ipython",
    "version": 3
   },
   "file_extension": ".py",
   "mimetype": "text/x-python",
   "name": "python",
   "nbconvert_exporter": "python",
   "pygments_lexer": "ipython3",
   "version": "3.12.7"
  }
 },
 "nbformat": 4,
 "nbformat_minor": 5
}
