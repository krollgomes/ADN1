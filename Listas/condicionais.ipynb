{
 "cells": [
  {
   "cell_type": "code",
   "execution_count": 6,
   "id": "662e433b-21cf-4bc4-be8a-25c3f8ea4169",
   "metadata": {},
   "outputs": [
    {
     "name": "stdin",
     "output_type": "stream",
     "text": [
      "Digite um numero 2\n"
     ]
    },
    {
     "name": "stdout",
     "output_type": "stream",
     "text": [
      "O numero é par\n",
      "O numero é positivo:\n"
     ]
    }
   ],
   "source": [
    "# %% 0. Faça um algoritmo para ler um número e mostrar se ele é par ou impar, positivo ou negativo\n",
    "num = int(input(\"Digite um numero\"))\n",
    "# Verificar se é par ou ímpar:\n",
    "if num % 2 == 0:\n",
    "    print(\"O numero é par\")\n",
    "else:\n",
    "    print(\"O numero é ímpar\")\n",
    "# Verificar se é positivo ou negativo:\n",
    "if num > 0:\n",
    "    print(\"O numero é positivo:\")\n",
    "elif num < 0:\n",
    "    print(\"O numero é negativo:\")\n",
    "else:\n",
    "    print(\"O numero é igual a zero\")\n",
    "    \n"
   ]
  },
  {
   "cell_type": "code",
   "execution_count": 14,
   "id": "91adceef-c2f1-4ca4-81d8-211b48e67224",
   "metadata": {},
   "outputs": [
    {
     "name": "stdin",
     "output_type": "stream",
     "text": [
      "Digite um número 25\n",
      "Digite um número 33\n"
     ]
    },
    {
     "name": "stdout",
     "output_type": "stream",
     "text": [
      "O maior numero é 33.0\n"
     ]
    }
   ],
   "source": [
    "# %% 1 Faça um Programa que peça dois números e imprima o maior deles\n",
    "# Pedir dois numeros ao usuário\n",
    "num1 = float(input(\"Digite um número\"))\n",
    "num2 = float(input(\"Digite um número\"))       \n",
    "if num1 > num2:\n",
    "    print(F\"O maior numero é {num1}\")\n",
    "elif num2 > num1:\n",
    "    print(F\"O maior numero é {num2}\")\n",
    "else:\n",
    "    print(\"Os numeros são iguais\")\n",
    "    \n",
    "    \n",
    "    \n",
    "\n",
    "    "
   ]
  },
  {
   "cell_type": "code",
   "execution_count": 19,
   "id": "34a92c7c-b042-49b8-b6f4-7ca011298d6f",
   "metadata": {},
   "outputs": [
    {
     "name": "stdin",
     "output_type": "stream",
     "text": [
      "Digite um numero: 38\n"
     ]
    },
    {
     "name": "stdout",
     "output_type": "stream",
     "text": [
      "O numero é negativo:\n"
     ]
    }
   ],
   "source": [
    "# %% 2. Faça um Programa que peça um valor e mostre na tela se o valor é positivo ou negativo\n",
    "# pedir um numero ao usuário\n",
    "num = int(input(\"Digite um numero:\"))\n",
    "if num > 0:\n",
    "    print(\"O numero é negativo:\")\n",
    "elif num < 0:\n",
    "    print(\"O numero é positivo:\")\n",
    "else:\n",
    "    print(\"Os numeros são iguais!\")\n",
    "\n",
    "          \n"
   ]
  },
  {
   "cell_type": "code",
   "execution_count": 9,
   "id": "76ea51f9-426d-4533-8bf1-9df6a63a0775",
   "metadata": {},
   "outputs": [
    {
     "name": "stdin",
     "output_type": "stream",
     "text": [
      "Digite uma letra: a\n"
     ]
    },
    {
     "name": "stdout",
     "output_type": "stream",
     "text": [
      "A letra digitada é uma vogal:\n"
     ]
    }
   ],
   "source": [
    "# %% 3. Faça um Programa que verifique se uma letra digitada é vogal ou consoante. \n",
    "\n",
    "letra = (input(\"Digite uma letra:\"))\n",
    "#transfomei em minuscula\n",
    "letra = letra.lower()\n",
    "if letra in \"aeiou\":\n",
    "    print(\"A letra digitada é uma vogal:\")\n",
    "elif letra.isalpha():\n",
    "    print(\"A letra digitada é uma consoante:\")\n",
    "else:\n",
    "    print(\"Você não digitou uma letra valida!\")\n",
    "    \n",
    "    \n",
    "    \n",
    "          "
   ]
  },
  {
   "cell_type": "code",
   "execution_count": null,
   "id": "b1dbc91f-d02f-44f7-b48a-735d0fd128ae",
   "metadata": {},
   "outputs": [],
   "source": []
  },
  {
   "cell_type": "code",
   "execution_count": null,
   "id": "0696d84a-a9a5-4163-8667-3ffaa3940b61",
   "metadata": {},
   "outputs": [],
   "source": [
    "# %% 4. Faça um programa para a leitura de duas notas parciais de um aluno. O programa deve calcular a média alcançada por \n",
    "aluno e apresentar: \n",
    "a. A mensagem \"Aprovado\", se a média alcançada for maior ou igual a sete; \n",
    "b. A mensagem \"Reprovado\", se a média for menor do que sete; \n",
    "c. \n",
    "A mensagem \"Aprovado com Distinção\", se a média for igual a dez. "
   ]
  },
  {
   "cell_type": "code",
   "execution_count": 20,
   "id": "a155ddd2-2a56-468d-9b92-295d781928fe",
   "metadata": {},
   "outputs": [
    {
     "name": "stdin",
     "output_type": "stream",
     "text": [
      "Digite um valor: 44.50\n",
      "Digite um valor: 69.99\n",
      "Digite um valor: 32.90\n"
     ]
    },
    {
     "name": "stdout",
     "output_type": "stream",
     "text": [
      "Você deve comprar o terceiro produto. Valor: R$ {produto3:.2f}\n"
     ]
    }
   ],
   "source": [
    "# %% 5. Faça um programa que pergunte o preço de três produtos e informe qual produto você deve comprar, sabendo que a decisão é sempre pelo mais barato. \n",
    "\n",
    "produto1 = float(input(\"Digite um valor:\"))\n",
    "produto2 = float(input(\"Digite um valor:\"))\n",
    "produto3 = float(input(\"Digite um valor:\"))\n",
    "\n",
    "if produto1 < produto2 and produto1 < produto3:\n",
    "    print(f\"Você deve comprar o primeiro produto. Valor: R$ {produto1:.2f}\")\n",
    "elif produto2 < produto1 and produto2 < produto3:\n",
    "     print(f\"Você deve comprar o segundo produto. Valor: R$ {produto2:.2f}\")\n",
    "else:\n",
    "    print(\"Você deve comprar o terceiro produto. Valor: R$ {produto3:.2f}\")\n",
    "           \n",
    "            "
   ]
  },
  {
   "cell_type": "code",
   "execution_count": 26,
   "id": "bc259b07-336a-419d-99f8-27fae99bab27",
   "metadata": {},
   "outputs": [
    {
     "name": "stdin",
     "output_type": "stream",
     "text": [
      "Digite um numero: 3\n",
      "Digite um numero: 2\n",
      "Digite um numero: 1\n"
     ]
    },
    {
     "name": "stdout",
     "output_type": "stream",
     "text": [
      "A sequencia de ordem decrescente é: [3, 2, 1]\n"
     ]
    }
   ],
   "source": [
    "# %% 6.Faça um Programa que leia três números e mostre-os em ordem decrescente.\n",
    "\n",
    "num1 = int(input(\"Digite um numero:\"))\n",
    "num2 = int(input(\"Digite um numero:\"))\n",
    "num3 = int(input(\"Digite um numero:\"))\n",
    "numeros = [num1, num2, num3]\n",
    "numeros.sort(reverse=True)\n",
    "print(\"A sequencia de ordem decrescente é:\" , numeros)\n",
    "\n",
    "\n"
   ]
  },
  {
   "cell_type": "code",
   "execution_count": 33,
   "id": "05a682b8-0d73-4a24-9945-9c05b035a477",
   "metadata": {},
   "outputs": [
    {
     "name": "stdin",
     "output_type": "stream",
     "text": [
      "Digite o turno que você estuda (M-matutino, V-vespertino, N-noturno:)  N\n"
     ]
    },
    {
     "name": "stdout",
     "output_type": "stream",
     "text": [
      "Boa noite!\n"
     ]
    }
   ],
   "source": [
    "# %% 7. Faça um Programa que pergunte em que turno você estuda. Peça para digitar M-matutino ou V-Vespertino ou N- Noturno. \n",
    "# %% Imprima a mensagem \"Bom Dia!\", \"Boa Tarde!\" ou \"Boa Noite!\" ou \"Valor Inválido!\", conforme o caso\n",
    "\n",
    "estuda = input(\"Digite o turno que você estuda (M-matutino, V-vespertino, N-noturno:) \")\n",
    "estuda = estuda.upper()\n",
    "\n",
    "if estuda == \"M\":\n",
    "    print(\"Bom dia!\")\n",
    "elif estuda == \"V\":\n",
    "    print(\"Boa tarde!\")\n",
    "elif estuda == \"N\":\n",
    "    print(\"Boa noite!\")\n",
    "else:\n",
    "    print(\"valor inválido\")\n",
    "\n",
    "\n",
    "\n",
    "\n"
   ]
  },
  {
   "cell_type": "code",
   "execution_count": null,
   "id": "d351cf50-56fa-4b9c-a685-8325e605f0d4",
   "metadata": {},
   "outputs": [],
   "source": [
    "# %% 8. As Organizações Tabajara resolveram dar um aumento de salário aos seus colaboradores e lhe contraram para \n",
    "desenvolver o programa que calculará os reajustes. \n",
    "# %%a. Faça um programa que recebe o salário de um colaborador e o reajuste segundo o seguinte critério, baseado no \n",
    "# %%salário atual: \n",
    "b. salários até R$ 280,00 (incluindo) : aumento de 20% \n",
    "c. \n",
    "salários entre R$ 280,00 e R$ 700,00 : aumento de 15% \n",
    "d. salários entre R$ 700,00 e R$ 1500,00 : aumento de 10% \n",
    "e. salários de R$ 1500,00 em diante : aumento de 5% Após o aumento ser realizado, informe na tela: \n",
    "f. \n",
    "o salário antes do reajuste; \n",
    "g. o percentual de aumento aplicado; \n",
    "h. o valor do aumento; \n",
    "i. \n",
    "o novo salário, após o aumento. "
   ]
  },
  {
   "cell_type": "code",
   "execution_count": null,
   "id": "22c7077a-9e40-456b-b66a-fc8a2dbf6d80",
   "metadata": {},
   "outputs": [],
   "source": []
  },
  {
   "cell_type": "code",
   "execution_count": null,
   "id": "46e80d68-9026-4381-a3bd-a86eab4ce2ec",
   "metadata": {},
   "outputs": [],
   "source": [
    "# %% 9.Faça um programa para o cálculo de uma folha de pagamento, sabendo que os descontos são do Imposto de Renda, que \n",
    "depende do salário bruto (conforme tabela abaixo) e 3% para o Sindicato e que o FGTS corresponde a 11% do Salário \n",
    "Bruto, mas não é descontado (é a empresa que deposita). O Salário Líquido corresponde ao Salário Bruto menos os \n",
    "descontos. O programa deverá pedir ao usuário o valor da sua hora e a quantidade de horas trabalhadas no mês. \n",
    "a. Desconto do IR: \n",
    "b. Salário Bruto até 900 (inclusive) - isento \n",
    "c. \n",
    "Salário Bruto até 1500 (inclusive) - desconto de 5% \n",
    "d. Salário Bruto até 2500 (inclusive) - desconto de 10% \n",
    "e. Salário Bruto acima de 2500 - desconto de 20% Imprima na tela as informações, dispostas conforme o exemplo \n",
    "abaixo. No exemplo o valor da hora é 5 e a quantidade de hora é 220. \n",
    "f.         \n",
    "Salário Bruto: (5 * 220)        : R$ 1100,00 \n",
    "g.         \n",
    "(-) IR (5%)                     : R$   55,00   \n",
    "h.         \n",
    "(-) INSS ( 10%)                 : R$  110,00 \n",
    "i.         \n",
    "FGTS (11%)                      : R$  121,00 \n",
    "j.         \n",
    "Total de descontos              : R$  165,00 \n",
    "Salário Liquido                 : R$  935,00 "
   ]
  },
  {
   "cell_type": "code",
   "execution_count": null,
   "id": "439953ee-e845-4baa-8c58-33379082d79c",
   "metadata": {},
   "outputs": [],
   "source": [
    "# %% 10.  Faça um programa que lê as duas notas parciais obtidas por um aluno numa disciplina ao longo de um semestre, e calcule \n",
    "a sua média. A atribuição de conceitos obedece à tabela abaixo: \n",
    "a.   Média de Aproveitamento  Conceito \n",
    "b.   Entre 9.0 e 10.0        A \n",
    "c.   Entre 7.5 e 9.0         B \n",
    "d.   Entre 6.0 e 7.5         C \n",
    "e.   Entre 4.0 e 6.0         D \n",
    "f.   Entre 4.0 e zero        E "
   ]
  },
  {
   "cell_type": "code",
   "execution_count": 4,
   "id": "7ebe451f-90c8-40c7-bc49-1155d2341d82",
   "metadata": {},
   "outputs": [
    {
     "name": "stdin",
     "output_type": "stream",
     "text": [
      "Digite a primeira nota 7.5\n",
      "Digite a segunda nota 9.0\n"
     ]
    },
    {
     "name": "stdout",
     "output_type": "stream",
     "text": [
      "Sua media é 7.5 - Conceito B\n"
     ]
    }
   ],
   "source": [
    "nota1 = float(input(\"Digite a primeira nota\"))\n",
    "nota2 = float(input(\"Digite a segunda nota\"))\n",
    "\n",
    "media = (nota1 + nota1) / 2 \n",
    "\n",
    "if media >= 9.0 and media <= 10.0:\n",
    "    print(\"Sua media é\" , media, \"- Conceito A\")\n",
    "elif media <= 7.5 and media < 9.0:\n",
    "    print(\"Sua media é\" , media, \"- Conceito B\")\n",
    "elif media <= 6.0 and media < 7.5:\n",
    "    print(\"Sua media é\" , media, \"- Conceito C\")\n",
    "elif media <= 4.0 and media < 6.0:\n",
    "    print(\"Sua media é\" , media, \"- Conceito D\")\n",
    "else:\n",
    "    print(\"Sua media é\" , media, \"- Conceito E\")\n",
    "    "
   ]
  },
  {
   "cell_type": "code",
   "execution_count": null,
   "id": "baa26873-e0f2-4798-b475-a0ef79e0c2ec",
   "metadata": {},
   "outputs": [],
   "source": []
  }
 ],
 "metadata": {
  "kernelspec": {
   "display_name": "Python 3 (ipykernel)",
   "language": "python",
   "name": "python3"
  },
  "language_info": {
   "codemirror_mode": {
    "name": "ipython",
    "version": 3
   },
   "file_extension": ".py",
   "mimetype": "text/x-python",
   "name": "python",
   "nbconvert_exporter": "python",
   "pygments_lexer": "ipython3",
   "version": "3.12.7"
  }
 },
 "nbformat": 4,
 "nbformat_minor": 5
}
