{
 "cells": [
  {
   "cell_type": "code",
   "execution_count": null,
   "id": "736f5c77-13bd-4f55-8cdb-46100003d492",
   "metadata": {},
   "outputs": [],
   "source": [
    "# %% 1. Faça um programa que peça uma nota, entre zero e dez. Mostre uma mensagem caso o valor seja inválido e continue \n",
    "# %% pedindo até que o usuário informe um valor válido. "
   ]
  },
  {
   "cell_type": "code",
   "execution_count": 3,
   "id": "a1271745-1e35-4d35-b20e-d746c1c913b9",
   "metadata": {},
   "outputs": [
    {
     "name": "stdin",
     "output_type": "stream",
     "text": [
      "Digite uma nota entre 0 e 10: 11\n"
     ]
    },
    {
     "name": "stdout",
     "output_type": "stream",
     "text": [
      "Valor inválido. Tente novamente:\n"
     ]
    },
    {
     "name": "stdin",
     "output_type": "stream",
     "text": [
      "Digite uma nota entre 0 e 10: 5\n"
     ]
    },
    {
     "name": "stdout",
     "output_type": "stream",
     "text": [
      "Nota valida digitada: 5.0\n"
     ]
    }
   ],
   "source": [
    "nota = -1\n",
    "while nota < 0 or nota > 10:\n",
    "    nota = float(input(\"Digite uma nota entre 0 e 10:\"))\n",
    "    if nota < 0 or nota > 10:\n",
    "        print(\"Valor inválido. Tente novamente:\")\n",
    "print(\"Nota valida digitada:\" , nota)\n",
    "        "
   ]
  },
  {
   "cell_type": "code",
   "execution_count": null,
   "id": "71d9567b-4984-467e-b490-d6bcf873f92f",
   "metadata": {},
   "outputs": [],
   "source": [
    "# %% 2. Faça um programa que leia um nome de usuário e a sua senha e não aceite a senha igual ao nome do usuário, mostrando \n",
    "# %% uma mensagem de erro e voltando a pedir as informações.\n"
   ]
  },
  {
   "cell_type": "code",
   "execution_count": 7,
   "id": "778d4fc3-da58-4b99-b057-8ce6be384b61",
   "metadata": {},
   "outputs": [
    {
     "name": "stdin",
     "output_type": "stream",
     "text": [
      "Digite seu nome de usuário: carol\n",
      "Digite sua senha: carol\n"
     ]
    },
    {
     "name": "stdout",
     "output_type": "stream",
     "text": [
      "Erro! Senha não pode ser igual ao nome do usuário:\n"
     ]
    },
    {
     "name": "stdin",
     "output_type": "stream",
     "text": [
      "Digite sua senha: carol\n"
     ]
    },
    {
     "name": "stdout",
     "output_type": "stream",
     "text": [
      "Erro! Senha não pode ser igual ao nome do usuário:\n"
     ]
    },
    {
     "name": "stdin",
     "output_type": "stream",
     "text": [
      "Digite sua senha: 1234\n"
     ]
    },
    {
     "name": "stdout",
     "output_type": "stream",
     "text": [
      "Senha digitada valida com sucesso!\n"
     ]
    }
   ],
   "source": [
    "nome = input(\"Digite seu nome de usuário:\")\n",
    "senha = input(\"Digite sua senha:\")\n",
    "while senha == nome:\n",
    "        print(\"Erro! Senha não pode ser igual ao nome do usuário:\")\n",
    "        senha = input(\"Digite sua senha:\")\n",
    "print(\"Senha digitada valida com sucesso!\")"
   ]
  },
  {
   "cell_type": "code",
   "execution_count": null,
   "id": "a6458c8a-0501-47b1-8d63-c8f7e1a1a80c",
   "metadata": {},
   "outputs": [],
   "source": [
    "# 3. Faça um programa que leia e valide as seguintes informações: \n",
    "# a. Nome: maior que 3 caracteres; \n",
    "# b. Idade: entre 0 e 150; \n",
    "# c. Salário: maior que zero; \n",
    "# d. Sexo: 'f' ou 'm'; \n",
    "# e. Estado Civil: 's', 'c', 'v', 'd';"
   ]
  },
  {
   "cell_type": "code",
   "execution_count": 14,
   "id": "04f4ee73-64bf-43c8-b9d2-b48ae3b7bfd0",
   "metadata": {},
   "outputs": [
    {
     "name": "stdin",
     "output_type": "stream",
     "text": [
      "Digite seu nome: carol\n",
      "Digite sua idade: 38\n",
      "Digite seu salario: 1000.00\n",
      "Digite seu sexo (F para feminino / M para masculino):  f\n",
      "Digite seu estado civil (s- solteiro, c- casado, v- viúvo, d- divorciado):  s\n"
     ]
    },
    {
     "name": "stdout",
     "output_type": "stream",
     "text": [
      "\n",
      " Cadastro completo com sucesso!\n",
      "Nome: carol\n",
      "Idade: 38\n",
      "Salario: 1000.0\n",
      "Sexo: f\n",
      "Estado_civil: s\n"
     ]
    }
   ],
   "source": [
    "nome = input(\"Digite seu nome:\")\n",
    "while len(nome) <= 3:\n",
    "    print(\"Nome deve ter mais que 3 letras:\")\n",
    "    nome = input(\"Digite seu nome novamente:\")\n",
    "\n",
    "idade = int(input(\"Digite sua idade:\"))\n",
    "while idade < 0 or idade > 150:\n",
    "    print(\"Idade deve ter entre 0 a 150:\")\n",
    "    idade = input(\"Digite sua idade novamente:\")\n",
    "\n",
    "salario = float(input(\"Digite seu salario:\"))\n",
    "while salario <= 0:\n",
    "    print(\"Salario maior que zero:\")\n",
    "    salario = float(input(\"Digite seu salário novamente:\"))\n",
    "\n",
    "sexo = input(\"Digite seu sexo (F para feminino / M para masculino): \").lower()\n",
    "while sexo != 'f' and sexo != 'M':\n",
    "    print(\"Sexo invalido. Digite 'f' ou 'm' .\")\n",
    "    sexo = input(\"Digite seu sexo novamente:\").lower()\n",
    "\n",
    "estado_civil = input(\"Digite seu estado civil (s- solteiro, c- casado, v- viúvo, d- divorciado): \").lower()\n",
    "while estado_civil not in ['s', 'c', 'v', 'd']:\n",
    "    print(\"Estado civil invalido. Digite 's', 'c', 'v', ou 'd'.\")\n",
    "    estado_civil = input(\"Digite novamente:\").lower()\n",
    "\n",
    "print(\"\\n Cadastro completo com sucesso!\")\n",
    "print(\"Nome:\" , nome)\n",
    "print(\"Idade:\" , idade)\n",
    "print(\"Salario:\" , salario)\n",
    "print(\"Sexo:\" , sexo)\n",
    "print(\"Estado_civil:\" , estado_civil)\n",
    "\n",
    "    \n"
   ]
  },
  {
   "cell_type": "code",
   "execution_count": null,
   "id": "504da03e-cbcb-45cd-8ca6-1bdb3b2b81c1",
   "metadata": {},
   "outputs": [],
   "source": [
    "# 4. Faça um programa que calcule o mostre a média aritmética de N notas."
   ]
  },
  {
   "cell_type": "code",
   "execution_count": 2,
   "id": "f7f3c4b3-9d28-4c1f-90b8-63648078f351",
   "metadata": {},
   "outputs": [
    {
     "name": "stdin",
     "output_type": "stream",
     "text": [
      "Quantas notas você quer digitar: 3\n",
      "Digite a 1 nota:  2\n",
      "Digite a 2 nota:  4\n",
      "Digite a 3 nota:  6\n"
     ]
    },
    {
     "name": "stdout",
     "output_type": "stream",
     "text": [
      "A media das 3 notas é: 4.00\n"
     ]
    }
   ],
   "source": [
    "quantidade = int(input(\"Quantas notas você quer digitar:\"))\n",
    "soma = 0\n",
    "for i in range(quantidade):\n",
    "    nota = float(input(f\"Digite a {i + 1} nota: \"))\n",
    "    soma += nota\n",
    "    media = soma / quantidade \n",
    "print(f\"A media das {quantidade} notas é: {media:.2f}\")"
   ]
  },
  {
   "cell_type": "code",
   "execution_count": null,
   "id": "1102cd50-20a1-4e34-af98-80cbbbc42189",
   "metadata": {},
   "outputs": [],
   "source": [
    "# 5. Faça um programa que leia 5 números e informe a soma e a média dos números."
   ]
  },
  {
   "cell_type": "code",
   "execution_count": 21,
   "id": "2e9bd725-f7a1-4624-ba85-7b7a3844c549",
   "metadata": {},
   "outputs": [
    {
     "name": "stdin",
     "output_type": "stream",
     "text": [
      "Digite um numero: 22\n",
      "Digite um numero: 30\n",
      "Digite um numero: 60\n",
      "Digite um numero: 40\n",
      "Digite um numero: 10\n"
     ]
    },
    {
     "name": "stdout",
     "output_type": "stream",
     "text": [
      "A soma dos numeros é: 162.0\n",
      "A media dos numeros é: 32.4\n"
     ]
    }
   ],
   "source": [
    "num1 = float(input(\"Digite um numero:\"))\n",
    "num2 = float(input(\"Digite um numero:\"))\n",
    "num3 = float(input(\"Digite um numero:\"))\n",
    "num4 = float(input(\"Digite um numero:\"))\n",
    "num5 = float(input(f\"Digite um numero:\"))\n",
    "soma =  num1 + num2 + num3 + num4 + num5 \n",
    "media = soma / 5\n",
    "print(\"A soma dos numeros é:\" , soma)\n",
    "print(\"A media dos numeros é:\" , media)\n"
   ]
  },
  {
   "cell_type": "code",
   "execution_count": null,
   "id": "d61b2067-952f-479a-a59b-e30e337480ca",
   "metadata": {},
   "outputs": [],
   "source": [
    "# 6. Desenvolva um gerador de tabuada, capaz de gerar a tabuada de qualquer número inteiro entre 1 a 10. O usuário deve \n",
    "#informar de qual numero ele deseja ver a tabuada. A saída deve ser conforme o exemplo abaixo: \n",
    "# a. Tabuada de 5: \n",
    "# b. 5 X 1 = 5 \n",
    "# c. 5 X 2 = 10 \n",
    "# d. ... \n",
    "# e. 5 X 10 = 50 "
   ]
  },
  {
   "cell_type": "code",
   "execution_count": 1,
   "id": "c7726f1f-1d28-44b6-8c52-c8f06987c70e",
   "metadata": {},
   "outputs": [
    {
     "name": "stdin",
     "output_type": "stream",
     "text": [
      "Digite um numero entre 1 e 10 para ver a tabuada: 5\n"
     ]
    },
    {
     "name": "stdout",
     "output_type": "stream",
     "text": [
      "\n",
      "tabuada de 5:\n",
      "5 x 1 = 5\n",
      "5 x 2 = 5\n",
      "5 x 3 = 5\n",
      "5 x 4 = 5\n",
      "5 x 5 = 5\n",
      "5 x 6 = 5\n",
      "5 x 7 = 5\n",
      "5 x 8 = 5\n",
      "5 x 9 = 5\n",
      "5 x 10 = 5\n"
     ]
    }
   ],
   "source": [
    "numero = int(input(\"Digite um numero entre 1 e 10 para ver a tabuada:\"))\n",
    "if 1 <= numero <= 10:\n",
    "    print(f\"\\ntabuada de {numero}:\")\n",
    "    for i in range(1,11):\n",
    "        resultado = numero * 1\n",
    "        print(f\"{numero} x {i} = {resultado}\")\n",
    "else:\n",
    "    print(\"por favor, digite um numero entre 1 e 10.\")\n",
    "    "
   ]
  },
  {
   "cell_type": "code",
   "execution_count": null,
   "id": "53ef741f-e03b-4600-bb37-76ae679fd8c7",
   "metadata": {},
   "outputs": [],
   "source": [
    "## 7. A série de Fibonacci é formada pela seqüência 1,1,2,3,5,8,13,21,34,55,... Faça um programa capaz de gerar a série até o \n",
    "## n−ésimo termo. "
   ]
  },
  {
   "cell_type": "code",
   "execution_count": 3,
   "id": "bce720b4-965a-4c8a-9105-fd3348a8db0c",
   "metadata": {},
   "outputs": [
    {
     "name": "stdin",
     "output_type": "stream",
     "text": [
      "Quantos termos da série de Fibonacci você quer ver? 10\n"
     ]
    },
    {
     "name": "stdout",
     "output_type": "stream",
     "text": [
      "1\n",
      "1\n",
      "2\n",
      "3\n",
      "5\n",
      "8\n",
      "13\n",
      "21\n",
      "34\n",
      "55\n"
     ]
    }
   ],
   "source": [
    "n = int(input(\"Quantos termos da série de Fibonacci você quer ver?\"))\n",
    "termo1 = 1\n",
    "termo2 = 1\n",
    "\n",
    "contador = 2\n",
    "print(termo1)\n",
    "print(termo2)\n",
    "\n",
    "while contador < n:\n",
    "    proximo = termo1 + termo2\n",
    "    print(proximo)\n",
    "    termo1  = termo2\n",
    "    termo2 = proximo\n",
    "    contador +=1"
   ]
  },
  {
   "cell_type": "code",
   "execution_count": null,
   "id": "7f2461da-f4cc-458d-925d-21e3f938ef68",
   "metadata": {},
   "outputs": [],
   "source": [
    "## 8. Faça um programa que calcule o mostre a média aritmética de N notas."
   ]
  },
  {
   "cell_type": "code",
   "execution_count": 4,
   "id": "8aa10369-7a0b-4557-862c-74fef0848fc2",
   "metadata": {},
   "outputs": [
    {
     "name": "stdin",
     "output_type": "stream",
     "text": [
      "Digite a primeira nota: 5.5\n",
      "digite a segunda nota: 5.8\n"
     ]
    },
    {
     "name": "stdout",
     "output_type": "stream",
     "text": [
      "A media é: 5.65\n"
     ]
    }
   ],
   "source": [
    "nota1 = float(input(\"Digite a primeira nota:\"))\n",
    "nota2 = float(input(\"digite a segunda nota:\"))\n",
    "\n",
    "media = (nota1 + nota2) / 2\n",
    "\n",
    "print(\"A media é:\", media)"
   ]
  },
  {
   "cell_type": "code",
   "execution_count": null,
   "id": "cdc81665-dc62-4de2-9a4d-c8322e989fbe",
   "metadata": {},
   "outputs": [],
   "source": [
    "# 9. O Sr. Manoel Joaquim possui uma grande loja de artigos de R$ 1,99, com cerca de 10 caixas. Para agilizar o cálculo de \n",
    "#quanto cada cliente deve pagar ele desenvolveu um tabela que contém o número de itens que o cliente comprou e ao lado \n",
    "# o valor da conta. Desta forma a atendente do caixa precisa apenas contar quantos itens o cliente está levando e olhar na \n",
    "# tabela de preços. Você foi contratado para desenvolver o programa que monta esta tabela de preços, que conterá os preços \n",
    "# de 1 até 50 produtos, conforme o exemplo abaixo: \n",
    "# a. Lojas Quase Dois - Tabela de preços \n",
    "# b. 1 - R$ 1.99 \n",
    "# c. 2 - R$ 3.98 \n",
    "# d. ... \n",
    "# e. 50 - R$ 99.50 \n"
   ]
  },
  {
   "cell_type": "code",
   "execution_count": 10,
   "id": "08ff6d68-e1ad-4355-911d-e3b0a3c11e1c",
   "metadata": {},
   "outputs": [
    {
     "name": "stdout",
     "output_type": "stream",
     "text": [
      "Lojas  Quase dois - tabela de preços:\n",
      "____________________________________:\n",
      "1 - R$  1.99\n",
      "2 - R$  3.98\n",
      "3 - R$  5.97\n",
      "4 - R$  7.96\n",
      "5 - R$  9.95\n",
      "6 - R$  11.94\n",
      "7 - R$  13.93\n",
      "8 - R$  15.92\n",
      "9 - R$  17.91\n",
      "10 - R$  19.90\n",
      "11 - R$  21.89\n",
      "12 - R$  23.88\n",
      "13 - R$  25.87\n",
      "14 - R$  27.86\n",
      "15 - R$  29.85\n",
      "16 - R$  31.84\n",
      "17 - R$  33.83\n",
      "18 - R$  35.82\n",
      "19 - R$  37.81\n",
      "20 - R$  39.80\n",
      "21 - R$  41.79\n",
      "22 - R$  43.78\n",
      "23 - R$  45.77\n",
      "24 - R$  47.76\n",
      "25 - R$  49.75\n",
      "26 - R$  51.74\n",
      "27 - R$  53.73\n",
      "28 - R$  55.72\n",
      "29 - R$  57.71\n",
      "30 - R$  59.70\n",
      "31 - R$  61.69\n",
      "32 - R$  63.68\n",
      "33 - R$  65.67\n",
      "34 - R$  67.66\n",
      "35 - R$  69.65\n",
      "36 - R$  71.64\n",
      "37 - R$  73.63\n",
      "38 - R$  75.62\n",
      "39 - R$  77.61\n",
      "40 - R$  79.60\n",
      "41 - R$  81.59\n",
      "42 - R$  83.58\n",
      "43 - R$  85.57\n",
      "44 - R$  87.56\n",
      "45 - R$  89.55\n",
      "46 - R$  91.54\n",
      "47 - R$  93.53\n",
      "48 - R$  95.52\n",
      "49 - R$  97.51\n",
      "50 - R$  99.50\n"
     ]
    }
   ],
   "source": [
    "print(\"Lojas  Quase dois - tabela de preços:\")\n",
    "print(\"____________________________________:\")\n",
    "\n",
    "for quantidade in range(1,51):\n",
    "    total = quantidade * 1.99\n",
    "    print(f\"{quantidade} - R$ {total: .2f}\")"
   ]
  },
  {
   "cell_type": "code",
   "execution_count": null,
   "id": "d4ad332b-1206-4763-a4c8-245e7a6a2b61",
   "metadata": {},
   "outputs": [],
   "source": []
  },
  {
   "cell_type": "code",
   "execution_count": null,
   "id": "dbe712b7-4053-4687-b74a-0742102856d0",
   "metadata": {},
   "outputs": [],
   "source": [
    "# 10. O Departamento Estadual de Meteorologia lhe contratou para desenvolver um programa que leia as um conjunto indeterminado de \n",
    "#temperaturas, e informe ao final a menor e a maior temperaturas informadas, bem como a média das temperaturas."
   ]
  },
  {
   "cell_type": "code",
   "execution_count": 9,
   "id": "7c477661-9b6e-41ba-ba4e-7b3406428b89",
   "metadata": {},
   "outputs": [
    {
     "name": "stdin",
     "output_type": "stream",
     "text": [
      "Digite a primeira temperatura: 22\n",
      "Digite a segunda temperatura: 18\n",
      "Digite a terceira temperatura: 12\n"
     ]
    },
    {
     "name": "stdout",
     "output_type": "stream",
     "text": [
      "Menor temperatura: 12.0\n",
      "Maior temperatura: 22.0\n",
      "Média das temperaturas: 17.333333333333332\n"
     ]
    }
   ],
   "source": [
    "temp1 = float(input(\"Digite a primeira temperatura:\"))\n",
    "temp2 = float(input(\"Digite a segunda temperatura:\"))\n",
    "temp3 = float(input(\"Digite a terceira temperatura:\"))\n",
    "\n",
    "\n",
    "media = (temp1 + temp2 + temp3) / 3\n",
    "\n",
    "menor = min(temp1, temp2, temp3)\n",
    "\n",
    "maior = max(temp1, temp2, temp3)\n",
    "\n",
    "print(\"Menor temperatura:\", menor)\n",
    "print(\"Maior temperatura:\" ,maior)\n",
    "print(\"Média das temperaturas:\" , media)\n",
    "\n",
    "\n",
    "\n",
    "\n",
    "\n"
   ]
  },
  {
   "cell_type": "code",
   "execution_count": null,
   "id": "587826cb-d3cb-4e87-8b08-39386b4acad0",
   "metadata": {},
   "outputs": [],
   "source": []
  }
 ],
 "metadata": {
  "kernelspec": {
   "display_name": "Python 3 (ipykernel)",
   "language": "python",
   "name": "python3"
  },
  "language_info": {
   "codemirror_mode": {
    "name": "ipython",
    "version": 3
   },
   "file_extension": ".py",
   "mimetype": "text/x-python",
   "name": "python",
   "nbconvert_exporter": "python",
   "pygments_lexer": "ipython3",
   "version": "3.12.7"
  }
 },
 "nbformat": 4,
 "nbformat_minor": 5
}
